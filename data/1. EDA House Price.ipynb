{
 "cells": [
  {
   "cell_type": "markdown",
   "metadata": {},
   "source": []
  },
  {
   "cell_type": "markdown",
   "metadata": {},
   "source": [
    "## House Price Prediction"
   ]
  },
  {
   "cell_type": "markdown",
   "metadata": {},
   "source": [
    "#### Life Cycle of Machine Learning Project\n",
    "- Understanding the Problem Statement\n",
    "- Data Collection\n",
    "- Data Check to Perform\n",
    "- Exploratory data analysis \n",
    "- Data Pre-Processing \n",
    "- Model Training \n",
    "- Choose best Model "
   ]
  },
  {
   "cell_type": "markdown",
   "metadata": {},
   "source": [
    "### 1) Problem Statement \n",
    "- This project understands how the house price affected by various variables like Area, Subclass, Land measurement, House structure style, Bedroom, Year of built and many other factors, playing a deciding roll for price prediction \n",
    "\n",
    "### 2) Data Collection \n",
    "- Data source - https://www.kaggle.com/datasets/prevek18/ames-housing-dataset\n",
    "- The data contain 82 columns and 2930 raws."
   ]
  },
  {
   "cell_type": "markdown",
   "metadata": {},
   "source": [
    "#### 2.1 import Data and Required Packages\n",
    "Importing Pandas, Numpy, Matplotlib, Seaborn and Warnings Library "
   ]
  },
  {
   "cell_type": "code",
   "execution_count": 61,
   "metadata": {},
   "outputs": [],
   "source": [
    "import pandas as pd\n",
    "import numpy as np\n",
    "import matplotlib.pyplot as plt\n",
    "import seaborn as sns\n",
    "import warnings\n",
    "warnings.filterwarnings('ignore')\n",
    "%matplotlib inline \n"
   ]
  },
  {
   "cell_type": "markdown",
   "metadata": {},
   "source": [
    "Import the CSV Data as Panda DataFrame "
   ]
  },
  {
   "cell_type": "code",
   "execution_count": 2,
   "metadata": {},
   "outputs": [],
   "source": [
    "data = pd.read_csv('AmesHousing.csv')"
   ]
  },
  {
   "cell_type": "markdown",
   "metadata": {},
   "source": [
    "Show the top 5 record "
   ]
  },
  {
   "cell_type": "code",
   "execution_count": 3,
   "metadata": {},
   "outputs": [
    {
     "data": {
      "text/html": [
       "<div>\n",
       "<style scoped>\n",
       "    .dataframe tbody tr th:only-of-type {\n",
       "        vertical-align: middle;\n",
       "    }\n",
       "\n",
       "    .dataframe tbody tr th {\n",
       "        vertical-align: top;\n",
       "    }\n",
       "\n",
       "    .dataframe thead th {\n",
       "        text-align: right;\n",
       "    }\n",
       "</style>\n",
       "<table border=\"1\" class=\"dataframe\">\n",
       "  <thead>\n",
       "    <tr style=\"text-align: right;\">\n",
       "      <th></th>\n",
       "      <th>Order</th>\n",
       "      <th>PID</th>\n",
       "      <th>MS SubClass</th>\n",
       "      <th>MS Zoning</th>\n",
       "      <th>Lot Frontage</th>\n",
       "      <th>Lot Area</th>\n",
       "      <th>Street</th>\n",
       "      <th>Alley</th>\n",
       "      <th>Lot Shape</th>\n",
       "      <th>Land Contour</th>\n",
       "      <th>...</th>\n",
       "      <th>Pool Area</th>\n",
       "      <th>Pool QC</th>\n",
       "      <th>Fence</th>\n",
       "      <th>Misc Feature</th>\n",
       "      <th>Misc Val</th>\n",
       "      <th>Mo Sold</th>\n",
       "      <th>Yr Sold</th>\n",
       "      <th>Sale Type</th>\n",
       "      <th>Sale Condition</th>\n",
       "      <th>SalePrice</th>\n",
       "    </tr>\n",
       "  </thead>\n",
       "  <tbody>\n",
       "    <tr>\n",
       "      <th>0</th>\n",
       "      <td>1</td>\n",
       "      <td>526301100</td>\n",
       "      <td>20</td>\n",
       "      <td>RL</td>\n",
       "      <td>141.0</td>\n",
       "      <td>31770</td>\n",
       "      <td>Pave</td>\n",
       "      <td>NaN</td>\n",
       "      <td>IR1</td>\n",
       "      <td>Lvl</td>\n",
       "      <td>...</td>\n",
       "      <td>0</td>\n",
       "      <td>NaN</td>\n",
       "      <td>NaN</td>\n",
       "      <td>NaN</td>\n",
       "      <td>0</td>\n",
       "      <td>5</td>\n",
       "      <td>2010</td>\n",
       "      <td>WD</td>\n",
       "      <td>Normal</td>\n",
       "      <td>215000</td>\n",
       "    </tr>\n",
       "    <tr>\n",
       "      <th>1</th>\n",
       "      <td>2</td>\n",
       "      <td>526350040</td>\n",
       "      <td>20</td>\n",
       "      <td>RH</td>\n",
       "      <td>80.0</td>\n",
       "      <td>11622</td>\n",
       "      <td>Pave</td>\n",
       "      <td>NaN</td>\n",
       "      <td>Reg</td>\n",
       "      <td>Lvl</td>\n",
       "      <td>...</td>\n",
       "      <td>0</td>\n",
       "      <td>NaN</td>\n",
       "      <td>MnPrv</td>\n",
       "      <td>NaN</td>\n",
       "      <td>0</td>\n",
       "      <td>6</td>\n",
       "      <td>2010</td>\n",
       "      <td>WD</td>\n",
       "      <td>Normal</td>\n",
       "      <td>105000</td>\n",
       "    </tr>\n",
       "    <tr>\n",
       "      <th>2</th>\n",
       "      <td>3</td>\n",
       "      <td>526351010</td>\n",
       "      <td>20</td>\n",
       "      <td>RL</td>\n",
       "      <td>81.0</td>\n",
       "      <td>14267</td>\n",
       "      <td>Pave</td>\n",
       "      <td>NaN</td>\n",
       "      <td>IR1</td>\n",
       "      <td>Lvl</td>\n",
       "      <td>...</td>\n",
       "      <td>0</td>\n",
       "      <td>NaN</td>\n",
       "      <td>NaN</td>\n",
       "      <td>Gar2</td>\n",
       "      <td>12500</td>\n",
       "      <td>6</td>\n",
       "      <td>2010</td>\n",
       "      <td>WD</td>\n",
       "      <td>Normal</td>\n",
       "      <td>172000</td>\n",
       "    </tr>\n",
       "    <tr>\n",
       "      <th>3</th>\n",
       "      <td>4</td>\n",
       "      <td>526353030</td>\n",
       "      <td>20</td>\n",
       "      <td>RL</td>\n",
       "      <td>93.0</td>\n",
       "      <td>11160</td>\n",
       "      <td>Pave</td>\n",
       "      <td>NaN</td>\n",
       "      <td>Reg</td>\n",
       "      <td>Lvl</td>\n",
       "      <td>...</td>\n",
       "      <td>0</td>\n",
       "      <td>NaN</td>\n",
       "      <td>NaN</td>\n",
       "      <td>NaN</td>\n",
       "      <td>0</td>\n",
       "      <td>4</td>\n",
       "      <td>2010</td>\n",
       "      <td>WD</td>\n",
       "      <td>Normal</td>\n",
       "      <td>244000</td>\n",
       "    </tr>\n",
       "    <tr>\n",
       "      <th>4</th>\n",
       "      <td>5</td>\n",
       "      <td>527105010</td>\n",
       "      <td>60</td>\n",
       "      <td>RL</td>\n",
       "      <td>74.0</td>\n",
       "      <td>13830</td>\n",
       "      <td>Pave</td>\n",
       "      <td>NaN</td>\n",
       "      <td>IR1</td>\n",
       "      <td>Lvl</td>\n",
       "      <td>...</td>\n",
       "      <td>0</td>\n",
       "      <td>NaN</td>\n",
       "      <td>MnPrv</td>\n",
       "      <td>NaN</td>\n",
       "      <td>0</td>\n",
       "      <td>3</td>\n",
       "      <td>2010</td>\n",
       "      <td>WD</td>\n",
       "      <td>Normal</td>\n",
       "      <td>189900</td>\n",
       "    </tr>\n",
       "  </tbody>\n",
       "</table>\n",
       "<p>5 rows × 82 columns</p>\n",
       "</div>"
      ],
      "text/plain": [
       "   Order        PID  MS SubClass MS Zoning  Lot Frontage  Lot Area Street  \\\n",
       "0      1  526301100           20        RL         141.0     31770   Pave   \n",
       "1      2  526350040           20        RH          80.0     11622   Pave   \n",
       "2      3  526351010           20        RL          81.0     14267   Pave   \n",
       "3      4  526353030           20        RL          93.0     11160   Pave   \n",
       "4      5  527105010           60        RL          74.0     13830   Pave   \n",
       "\n",
       "  Alley Lot Shape Land Contour  ... Pool Area Pool QC  Fence Misc Feature  \\\n",
       "0   NaN       IR1          Lvl  ...         0     NaN    NaN          NaN   \n",
       "1   NaN       Reg          Lvl  ...         0     NaN  MnPrv          NaN   \n",
       "2   NaN       IR1          Lvl  ...         0     NaN    NaN         Gar2   \n",
       "3   NaN       Reg          Lvl  ...         0     NaN    NaN          NaN   \n",
       "4   NaN       IR1          Lvl  ...         0     NaN  MnPrv          NaN   \n",
       "\n",
       "  Misc Val Mo Sold Yr Sold Sale Type  Sale Condition  SalePrice  \n",
       "0        0       5    2010       WD           Normal     215000  \n",
       "1        0       6    2010       WD           Normal     105000  \n",
       "2    12500       6    2010       WD           Normal     172000  \n",
       "3        0       4    2010       WD           Normal     244000  \n",
       "4        0       3    2010       WD           Normal     189900  \n",
       "\n",
       "[5 rows x 82 columns]"
      ]
     },
     "execution_count": 3,
     "metadata": {},
     "output_type": "execute_result"
    }
   ],
   "source": [
    "data.head(5)"
   ]
  },
  {
   "cell_type": "markdown",
   "metadata": {},
   "source": [
    "Shape of dataset"
   ]
  },
  {
   "cell_type": "code",
   "execution_count": 4,
   "metadata": {},
   "outputs": [
    {
     "data": {
      "text/plain": [
       "(2930, 82)"
      ]
     },
     "execution_count": 4,
     "metadata": {},
     "output_type": "execute_result"
    }
   ],
   "source": [
    "data.shape"
   ]
  },
  {
   "cell_type": "code",
   "execution_count": 13,
   "metadata": {},
   "outputs": [
    {
     "data": {
      "text/plain": [
       "Index(['Order', 'PID', 'MS SubClass', 'MS Zoning', 'Lot Frontage', 'Lot Area',\n",
       "       'Street', 'Alley', 'Lot Shape', 'Land Contour', 'Utilities',\n",
       "       'Lot Config', 'Land Slope', 'Neighborhood', 'Condition 1',\n",
       "       'Condition 2', 'Bldg Type', 'House Style', 'Overall Qual',\n",
       "       'Overall Cond', 'Year Built', 'Year Remod/Add', 'Roof Style',\n",
       "       'Roof Matl', 'Exterior 1st', 'Exterior 2nd', 'Mas Vnr Type',\n",
       "       'Mas Vnr Area', 'Exter Qual', 'Exter Cond', 'Foundation', 'Bsmt Qual',\n",
       "       'Bsmt Cond', 'Bsmt Exposure', 'BsmtFin Type 1', 'BsmtFin SF 1',\n",
       "       'BsmtFin Type 2', 'BsmtFin SF 2', 'Bsmt Unf SF', 'Total Bsmt SF',\n",
       "       'Heating', 'Heating QC', 'Central Air', 'Electrical', '1st Flr SF',\n",
       "       '2nd Flr SF', 'Low Qual Fin SF', 'Gr Liv Area', 'Bsmt Full Bath',\n",
       "       'Bsmt Half Bath', 'Full Bath', 'Half Bath', 'Bedroom AbvGr',\n",
       "       'Kitchen AbvGr', 'Kitchen Qual', 'TotRms AbvGrd', 'Functional',\n",
       "       'Fireplaces', 'Fireplace Qu', 'Garage Type', 'Garage Yr Blt',\n",
       "       'Garage Finish', 'Garage Cars', 'Garage Area', 'Garage Qual',\n",
       "       'Garage Cond', 'Paved Drive', 'Wood Deck SF', 'Open Porch SF',\n",
       "       'Enclosed Porch', '3Ssn Porch', 'Screen Porch', 'Pool Area', 'Pool QC',\n",
       "       'Fence', 'Misc Feature', 'Misc Val', 'Mo Sold', 'Yr Sold', 'Sale Type',\n",
       "       'Sale Condition', 'SalePrice'],\n",
       "      dtype='object')"
      ]
     },
     "execution_count": 13,
     "metadata": {},
     "output_type": "execute_result"
    }
   ],
   "source": [
    "data.columns"
   ]
  },
  {
   "cell_type": "markdown",
   "metadata": {},
   "source": [
    "#### 2.2 Data Observation\n",
    "As primary data observation of above data We can dived in 17 group that lead to target variable \n",
    "\n",
    "- Property Information\n",
    "- Lot Information\n",
    "- Build type and Style\n",
    "- Quality and Condition\n",
    "- Construction Details \n",
    "- Exterior and Foundation \n",
    "- Basement Details\n",
    "- Heating and Cooling \n",
    "- Electrical & Interior\n",
    "- Bathrooms\n",
    "- Rooms\n",
    "- House Functionality \n",
    "- Fireplace\n",
    "- Garage \n",
    "- Outdoor Features\n",
    "- Pools and Miscellaneous \n",
    "- Sale Information \n"
   ]
  },
  {
   "cell_type": "markdown",
   "metadata": {},
   "source": [
    "### 3. Data Check to Perform \n",
    "- Check Missing value \n",
    "- Check Duplicates\n",
    "- Check data type\n",
    "- Check the number of unique values of each column\n",
    "- Check statistic of data Set \n",
    "- Check various categories present in the different categorical column\n"
   ]
  },
  {
   "cell_type": "markdown",
   "metadata": {},
   "source": [
    "#### 3.1 Check Missing Value"
   ]
  },
  {
   "cell_type": "code",
   "execution_count": 30,
   "metadata": {},
   "outputs": [
    {
     "name": "stdout",
     "output_type": "stream",
     "text": [
      "            column  missing values\n",
      "4     Lot Frontage             490\n",
      "7            Alley            2732\n",
      "26    Mas Vnr Type            1775\n",
      "27    Mas Vnr Area              23\n",
      "31       Bsmt Qual              80\n",
      "32       Bsmt Cond              80\n",
      "33   Bsmt Exposure              83\n",
      "34  BsmtFin Type 1              80\n",
      "35    BsmtFin SF 1               1\n",
      "36  BsmtFin Type 2              81\n",
      "37    BsmtFin SF 2               1\n",
      "38     Bsmt Unf SF               1\n",
      "39   Total Bsmt SF               1\n",
      "43      Electrical               1\n",
      "48  Bsmt Full Bath               2\n",
      "49  Bsmt Half Bath               2\n",
      "58    Fireplace Qu            1422\n",
      "59     Garage Type             157\n",
      "60   Garage Yr Blt             159\n",
      "61   Garage Finish             159\n",
      "62     Garage Cars               1\n",
      "63     Garage Area               1\n",
      "64     Garage Qual             159\n",
      "65     Garage Cond             159\n",
      "73         Pool QC            2917\n",
      "74           Fence            2358\n",
      "75    Misc Feature            2824\n"
     ]
    }
   ],
   "source": [
    "missing_data = data.isna().sum().reset_index()\n",
    "missing_data.columns = ['column', 'missing values']\n",
    "missing_data = missing_data[missing_data['missing values'] != 0]\n",
    "print(missing_data)"
   ]
  },
  {
   "cell_type": "markdown",
   "metadata": {},
   "source": [
    "Dataset has contain total 84 columns as a variable out of 27 columns as missing values, top missing value variable like **'-PoolQC', 'Alley', 'Misc Feature' and 'Fence'**"
   ]
  },
  {
   "cell_type": "markdown",
   "metadata": {},
   "source": [
    "#### 3.2 Check Duplicate "
   ]
  },
  {
   "cell_type": "code",
   "execution_count": 31,
   "metadata": {},
   "outputs": [
    {
     "data": {
      "text/plain": [
       "0"
      ]
     },
     "execution_count": 31,
     "metadata": {},
     "output_type": "execute_result"
    }
   ],
   "source": [
    "data.duplicated().sum()"
   ]
  },
  {
   "cell_type": "markdown",
   "metadata": {},
   "source": [
    "Dataset have no duplicate values"
   ]
  },
  {
   "cell_type": "markdown",
   "metadata": {},
   "source": [
    "#### 3.3 Check Data Type "
   ]
  },
  {
   "cell_type": "code",
   "execution_count": 11,
   "metadata": {
    "slideshow": {
     "slide_type": "slide"
    }
   },
   "outputs": [
    {
     "name": "stdout",
     "output_type": "stream",
     "text": [
      "<class 'pandas.core.frame.DataFrame'>\n",
      "RangeIndex: 2930 entries, 0 to 2929\n",
      "Data columns (total 82 columns):\n",
      " #   Column           Non-Null Count  Dtype  \n",
      "---  ------           --------------  -----  \n",
      " 0   Order            2930 non-null   int64  \n",
      " 1   PID              2930 non-null   int64  \n",
      " 2   MS SubClass      2930 non-null   int64  \n",
      " 3   MS Zoning        2930 non-null   object \n",
      " 4   Lot Frontage     2440 non-null   float64\n",
      " 5   Lot Area         2930 non-null   int64  \n",
      " 6   Street           2930 non-null   object \n",
      " 7   Alley            198 non-null    object \n",
      " 8   Lot Shape        2930 non-null   object \n",
      " 9   Land Contour     2930 non-null   object \n",
      " 10  Utilities        2930 non-null   object \n",
      " 11  Lot Config       2930 non-null   object \n",
      " 12  Land Slope       2930 non-null   object \n",
      " 13  Neighborhood     2930 non-null   object \n",
      " 14  Condition 1      2930 non-null   object \n",
      " 15  Condition 2      2930 non-null   object \n",
      " 16  Bldg Type        2930 non-null   object \n",
      " 17  House Style      2930 non-null   object \n",
      " 18  Overall Qual     2930 non-null   int64  \n",
      " 19  Overall Cond     2930 non-null   int64  \n",
      " 20  Year Built       2930 non-null   int64  \n",
      " 21  Year Remod/Add   2930 non-null   int64  \n",
      " 22  Roof Style       2930 non-null   object \n",
      " 23  Roof Matl        2930 non-null   object \n",
      " 24  Exterior 1st     2930 non-null   object \n",
      " 25  Exterior 2nd     2930 non-null   object \n",
      " 26  Mas Vnr Type     1155 non-null   object \n",
      " 27  Mas Vnr Area     2907 non-null   float64\n",
      " 28  Exter Qual       2930 non-null   object \n",
      " 29  Exter Cond       2930 non-null   object \n",
      " 30  Foundation       2930 non-null   object \n",
      " 31  Bsmt Qual        2850 non-null   object \n",
      " 32  Bsmt Cond        2850 non-null   object \n",
      " 33  Bsmt Exposure    2847 non-null   object \n",
      " 34  BsmtFin Type 1   2850 non-null   object \n",
      " 35  BsmtFin SF 1     2929 non-null   float64\n",
      " 36  BsmtFin Type 2   2849 non-null   object \n",
      " 37  BsmtFin SF 2     2929 non-null   float64\n",
      " 38  Bsmt Unf SF      2929 non-null   float64\n",
      " 39  Total Bsmt SF    2929 non-null   float64\n",
      " 40  Heating          2930 non-null   object \n",
      " 41  Heating QC       2930 non-null   object \n",
      " 42  Central Air      2930 non-null   object \n",
      " 43  Electrical       2929 non-null   object \n",
      " 44  1st Flr SF       2930 non-null   int64  \n",
      " 45  2nd Flr SF       2930 non-null   int64  \n",
      " 46  Low Qual Fin SF  2930 non-null   int64  \n",
      " 47  Gr Liv Area      2930 non-null   int64  \n",
      " 48  Bsmt Full Bath   2928 non-null   float64\n",
      " 49  Bsmt Half Bath   2928 non-null   float64\n",
      " 50  Full Bath        2930 non-null   int64  \n",
      " 51  Half Bath        2930 non-null   int64  \n",
      " 52  Bedroom AbvGr    2930 non-null   int64  \n",
      " 53  Kitchen AbvGr    2930 non-null   int64  \n",
      " 54  Kitchen Qual     2930 non-null   object \n",
      " 55  TotRms AbvGrd    2930 non-null   int64  \n",
      " 56  Functional       2930 non-null   object \n",
      " 57  Fireplaces       2930 non-null   int64  \n",
      " 58  Fireplace Qu     1508 non-null   object \n",
      " 59  Garage Type      2773 non-null   object \n",
      " 60  Garage Yr Blt    2771 non-null   float64\n",
      " 61  Garage Finish    2771 non-null   object \n",
      " 62  Garage Cars      2929 non-null   float64\n",
      " 63  Garage Area      2929 non-null   float64\n",
      " 64  Garage Qual      2771 non-null   object \n",
      " 65  Garage Cond      2771 non-null   object \n",
      " 66  Paved Drive      2930 non-null   object \n",
      " 67  Wood Deck SF     2930 non-null   int64  \n",
      " 68  Open Porch SF    2930 non-null   int64  \n",
      " 69  Enclosed Porch   2930 non-null   int64  \n",
      " 70  3Ssn Porch       2930 non-null   int64  \n",
      " 71  Screen Porch     2930 non-null   int64  \n",
      " 72  Pool Area        2930 non-null   int64  \n",
      " 73  Pool QC          13 non-null     object \n",
      " 74  Fence            572 non-null    object \n",
      " 75  Misc Feature     106 non-null    object \n",
      " 76  Misc Val         2930 non-null   int64  \n",
      " 77  Mo Sold          2930 non-null   int64  \n",
      " 78  Yr Sold          2930 non-null   int64  \n",
      " 79  Sale Type        2930 non-null   object \n",
      " 80  Sale Condition   2930 non-null   object \n",
      " 81  SalePrice        2930 non-null   int64  \n",
      "dtypes: float64(11), int64(28), object(43)\n",
      "memory usage: 1.8+ MB\n"
     ]
    }
   ],
   "source": [
    "data.info()"
   ]
  },
  {
   "cell_type": "markdown",
   "metadata": {},
   "source": [
    "#### 3.4 Checking the number of unique values of each column "
   ]
  },
  {
   "cell_type": "code",
   "execution_count": 35,
   "metadata": {},
   "outputs": [
    {
     "name": "stdout",
     "output_type": "stream",
     "text": [
      "[['Order' 2930]\n",
      " ['PID' 2930]\n",
      " ['MS SubClass' 16]\n",
      " ['MS Zoning' 7]\n",
      " ['Lot Frontage' 128]\n",
      " ['Lot Area' 1960]\n",
      " ['Street' 2]\n",
      " ['Alley' 2]\n",
      " ['Lot Shape' 4]\n",
      " ['Land Contour' 4]\n",
      " ['Utilities' 3]\n",
      " ['Lot Config' 5]\n",
      " ['Land Slope' 3]\n",
      " ['Neighborhood' 28]\n",
      " ['Condition 1' 9]\n",
      " ['Condition 2' 8]\n",
      " ['Bldg Type' 5]\n",
      " ['House Style' 8]\n",
      " ['Overall Qual' 10]\n",
      " ['Overall Cond' 9]\n",
      " ['Year Built' 118]\n",
      " ['Year Remod/Add' 61]\n",
      " ['Roof Style' 6]\n",
      " ['Roof Matl' 8]\n",
      " ['Exterior 1st' 16]\n",
      " ['Exterior 2nd' 17]\n",
      " ['Mas Vnr Type' 4]\n",
      " ['Mas Vnr Area' 445]\n",
      " ['Exter Qual' 4]\n",
      " ['Exter Cond' 5]\n",
      " ['Foundation' 6]\n",
      " ['Bsmt Qual' 5]\n",
      " ['Bsmt Cond' 5]\n",
      " ['Bsmt Exposure' 4]\n",
      " ['BsmtFin Type 1' 6]\n",
      " ['BsmtFin SF 1' 995]\n",
      " ['BsmtFin Type 2' 6]\n",
      " ['BsmtFin SF 2' 274]\n",
      " ['Bsmt Unf SF' 1137]\n",
      " ['Total Bsmt SF' 1058]\n",
      " ['Heating' 6]\n",
      " ['Heating QC' 5]\n",
      " ['Central Air' 2]\n",
      " ['Electrical' 5]\n",
      " ['1st Flr SF' 1083]\n",
      " ['2nd Flr SF' 635]\n",
      " ['Low Qual Fin SF' 36]\n",
      " ['Gr Liv Area' 1292]\n",
      " ['Bsmt Full Bath' 4]\n",
      " ['Bsmt Half Bath' 3]\n",
      " ['Full Bath' 5]\n",
      " ['Half Bath' 3]\n",
      " ['Bedroom AbvGr' 8]\n",
      " ['Kitchen AbvGr' 4]\n",
      " ['Kitchen Qual' 5]\n",
      " ['TotRms AbvGrd' 14]\n",
      " ['Functional' 8]\n",
      " ['Fireplaces' 5]\n",
      " ['Fireplace Qu' 5]\n",
      " ['Garage Type' 6]\n",
      " ['Garage Yr Blt' 103]\n",
      " ['Garage Finish' 3]\n",
      " ['Garage Cars' 6]\n",
      " ['Garage Area' 603]\n",
      " ['Garage Qual' 5]\n",
      " ['Garage Cond' 5]\n",
      " ['Paved Drive' 3]\n",
      " ['Wood Deck SF' 380]\n",
      " ['Open Porch SF' 252]\n",
      " ['Enclosed Porch' 183]\n",
      " ['3Ssn Porch' 31]\n",
      " ['Screen Porch' 121]\n",
      " ['Pool Area' 14]\n",
      " ['Pool QC' 4]\n",
      " ['Fence' 4]\n",
      " ['Misc Feature' 5]\n",
      " ['Misc Val' 38]\n",
      " ['Mo Sold' 12]\n",
      " ['Yr Sold' 5]\n",
      " ['Sale Type' 10]\n",
      " ['Sale Condition' 6]\n",
      " ['SalePrice' 1032]]\n"
     ]
    }
   ],
   "source": [
    "unique = data.nunique().reset_index()\n",
    "#unique.columns = ['columns', 'unique']\n",
    "print(unique.values)"
   ]
  },
  {
   "cell_type": "markdown",
   "metadata": {},
   "source": [
    "#### 3.5 Check Statistics of data set "
   ]
  },
  {
   "cell_type": "code",
   "execution_count": 38,
   "metadata": {},
   "outputs": [
    {
     "name": "stdout",
     "output_type": "stream",
     "text": [
      "            Order           PID  MS SubClass  Lot Frontage       Lot Area  \\\n",
      "count  2930.00000  2.930000e+03  2930.000000   2440.000000    2930.000000   \n",
      "mean   1465.50000  7.144645e+08    57.387372     69.224590   10147.921843   \n",
      "std     845.96247  1.887308e+08    42.638025     23.365335    7880.017759   \n",
      "min       1.00000  5.263011e+08    20.000000     21.000000    1300.000000   \n",
      "25%     733.25000  5.284770e+08    20.000000     58.000000    7440.250000   \n",
      "50%    1465.50000  5.354536e+08    50.000000     68.000000    9436.500000   \n",
      "75%    2197.75000  9.071811e+08    70.000000     80.000000   11555.250000   \n",
      "max    2930.00000  1.007100e+09   190.000000    313.000000  215245.000000   \n",
      "\n",
      "       Overall Qual  Overall Cond   Year Built  Year Remod/Add  Mas Vnr Area  \\\n",
      "count   2930.000000   2930.000000  2930.000000     2930.000000   2907.000000   \n",
      "mean       6.094881      5.563140  1971.356314     1984.266553    101.896801   \n",
      "std        1.411026      1.111537    30.245361       20.860286    179.112611   \n",
      "min        1.000000      1.000000  1872.000000     1950.000000      0.000000   \n",
      "25%        5.000000      5.000000  1954.000000     1965.000000      0.000000   \n",
      "50%        6.000000      5.000000  1973.000000     1993.000000      0.000000   \n",
      "75%        7.000000      6.000000  2001.000000     2004.000000    164.000000   \n",
      "max       10.000000      9.000000  2010.000000     2010.000000   1600.000000   \n",
      "\n",
      "       ...  Wood Deck SF  Open Porch SF  Enclosed Porch   3Ssn Porch  \\\n",
      "count  ...   2930.000000    2930.000000     2930.000000  2930.000000   \n",
      "mean   ...     93.751877      47.533447       23.011604     2.592491   \n",
      "std    ...    126.361562      67.483400       64.139059    25.141331   \n",
      "min    ...      0.000000       0.000000        0.000000     0.000000   \n",
      "25%    ...      0.000000       0.000000        0.000000     0.000000   \n",
      "50%    ...      0.000000      27.000000        0.000000     0.000000   \n",
      "75%    ...    168.000000      70.000000        0.000000     0.000000   \n",
      "max    ...   1424.000000     742.000000     1012.000000   508.000000   \n",
      "\n",
      "       Screen Porch    Pool Area      Misc Val      Mo Sold      Yr Sold  \\\n",
      "count   2930.000000  2930.000000   2930.000000  2930.000000  2930.000000   \n",
      "mean      16.002048     2.243345     50.635154     6.216041  2007.790444   \n",
      "std       56.087370    35.597181    566.344288     2.714492     1.316613   \n",
      "min        0.000000     0.000000      0.000000     1.000000  2006.000000   \n",
      "25%        0.000000     0.000000      0.000000     4.000000  2007.000000   \n",
      "50%        0.000000     0.000000      0.000000     6.000000  2008.000000   \n",
      "75%        0.000000     0.000000      0.000000     8.000000  2009.000000   \n",
      "max      576.000000   800.000000  17000.000000    12.000000  2010.000000   \n",
      "\n",
      "           SalePrice  \n",
      "count    2930.000000  \n",
      "mean   180796.060068  \n",
      "std     79886.692357  \n",
      "min     12789.000000  \n",
      "25%    129500.000000  \n",
      "50%    160000.000000  \n",
      "75%    213500.000000  \n",
      "max    755000.000000  \n",
      "\n",
      "[8 rows x 39 columns]\n"
     ]
    }
   ],
   "source": [
    "stat = data.describe()\n",
    "print(stat)"
   ]
  },
  {
   "cell_type": "markdown",
   "metadata": {},
   "source": [
    "#### Insight\n",
    "- Dataset have 39 columns with numerical values \n",
    "- The target variable `SalePrice` has mean **$1,80,796.06** with std of **$79,886**, indicating a significant spread in house price\n",
    "- `Overall Qual` (Quality of House) range from **1 to 10** with Mean **6.09**, showing a relatively high quality of average.\n",
    "- `Lot Area` has wid range with some extrema outlier (Max Property Size **215,245**), which indict largest property.\n",
    "- `Year Built` has range **1872 to 2010**, Here around **25%** value falls under **75 to 100** percentile rank with year range of **2001 to 2010** show selling new house is more popular.\n",
    "  "
   ]
  },
  {
   "cell_type": "markdown",
   "metadata": {},
   "source": [
    "#### 3.6 Exploratory Data   "
   ]
  },
  {
   "cell_type": "code",
   "execution_count": 48,
   "metadata": {},
   "outputs": [
    {
     "name": "stdout",
     "output_type": "stream",
     "text": [
      "we have 39 numerical features ['Order', 'PID', 'MS SubClass', 'Lot Frontage', 'Lot Area', 'Overall Qual', 'Overall Cond', 'Year Built', 'Year Remod/Add', 'Mas Vnr Area', 'BsmtFin SF 1', 'BsmtFin SF 2', 'Bsmt Unf SF', 'Total Bsmt SF', '1st Flr SF', '2nd Flr SF', 'Low Qual Fin SF', 'Gr Liv Area', 'Bsmt Full Bath', 'Bsmt Half Bath', 'Full Bath', 'Half Bath', 'Bedroom AbvGr', 'Kitchen AbvGr', 'TotRms AbvGrd', 'Fireplaces', 'Garage Yr Blt', 'Garage Cars', 'Garage Area', 'Wood Deck SF', 'Open Porch SF', 'Enclosed Porch', '3Ssn Porch', 'Screen Porch', 'Pool Area', 'Misc Val', 'Mo Sold', 'Yr Sold', 'SalePrice']:\n",
      "\n",
      "we have 43 numerical features ['MS Zoning', 'Street', 'Alley', 'Lot Shape', 'Land Contour', 'Utilities', 'Lot Config', 'Land Slope', 'Neighborhood', 'Condition 1', 'Condition 2', 'Bldg Type', 'House Style', 'Roof Style', 'Roof Matl', 'Exterior 1st', 'Exterior 2nd', 'Mas Vnr Type', 'Exter Qual', 'Exter Cond', 'Foundation', 'Bsmt Qual', 'Bsmt Cond', 'Bsmt Exposure', 'BsmtFin Type 1', 'BsmtFin Type 2', 'Heating', 'Heating QC', 'Central Air', 'Electrical', 'Kitchen Qual', 'Functional', 'Fireplace Qu', 'Garage Type', 'Garage Finish', 'Garage Qual', 'Garage Cond', 'Paved Drive', 'Pool QC', 'Fence', 'Misc Feature', 'Sale Type', 'Sale Condition']:\n"
     ]
    }
   ],
   "source": [
    "## Define numerical columns and Categorical columns \n",
    "numerical_features = [col for col in data.columns if data[col].dtype in ['int64', 'float64']]\n",
    "categorical_features = [col for col in data.columns if data[col].dtype in ['object']]\n",
    "\n",
    "print('we have {} numerical features {}:'.format(len(numerical_features), numerical_features))\n",
    "print('\\nwe have {} numerical features {}:'.format(len(categorical_features), categorical_features))"
   ]
  },
  {
   "cell_type": "code",
   "execution_count": 53,
   "metadata": {},
   "outputs": [
    {
     "name": "stdout",
     "output_type": "stream",
     "text": [
      "              count  average_sale_price\n",
      "Overall Qual                           \n",
      "1                 4        48725.000000\n",
      "2                13        52325.307692\n",
      "3                40        83185.975000\n",
      "4               226       106485.097345\n",
      "5               825       134752.516364\n",
      "6               732       162130.318306\n",
      "7               602       205025.760797\n",
      "8               350       270913.594286\n",
      "9               107       368336.766355\n",
      "10               31       450217.322581\n"
     ]
    }
   ],
   "source": [
    "# Group by 'OverallQual' and calculate the count and mean of 'SalePrice'\n",
    "quality_stats = data.groupby('Overall Qual').agg(\n",
    "    count=('Overall Qual', 'size'),  # Count the number of occurrences of each quality level\n",
    "    average_sale_price=('SalePrice', 'mean')  # Calculate the average 'SalePrice' for each quality level\n",
    ")\n",
    "\n",
    "# Display the result\n",
    "print(quality_stats)\n"
   ]
  },
  {
   "cell_type": "markdown",
   "metadata": {},
   "source": [
    "- From above we have 39 numerical and 43 categorical variable in this dataset\n",
    "- `Overall Quality` **10** number quality house **31** and Lowest quality **1** number house count is only **4**"
   ]
  },
  {
   "cell_type": "markdown",
   "metadata": {},
   "source": [
    "### 4. Exploratory Data (Visualization)"
   ]
  },
  {
   "cell_type": "markdown",
   "metadata": {},
   "source": [
    "#### 4.1 Univariate Analysis "
   ]
  },
  {
   "cell_type": "code",
   "execution_count": 68,
   "metadata": {},
   "outputs": [
    {
     "data": {
      "text/plain": [
       "Text(0.5, 1.0, 'House Area Distribution')"
      ]
     },
     "execution_count": 68,
     "metadata": {},
     "output_type": "execute_result"
    },
    {
     "data": {
      "image/png": "[encoded data removed]",
      "text/plain": [
       "<Figure size 2000x700 with 3 Axes>"
      ]
     },
     "metadata": {},
     "output_type": "display_data"
    }
   ],
   "source": [
    "## Distribution of sales price, lot area, built year\n",
    "fig, ax = plt.subplots(1, 3, figsize = (20,7))\n",
    "plt.subplot(131)\n",
    "sns.histplot(data, x = data['SalePrice'], bins=30, kde=True, color='g' )\n",
    "plt.title('House Sales Price Distribution')\n",
    "plt.subplot(132)\n",
    "sns.histplot(data, x = data['Year Built'], kde = True, bins=30, color='y')\n",
    "plt.title('House Built Year Distribution')\n",
    "plt.subplot(133)\n",
    "sns.histplot(data, x =  data['Lot Area'], kde = True, bins=30, color='r' )\n",
    "plt.title('House Area Distribution')"
   ]
  },
  {
   "cell_type": "code",
   "execution_count": null,
   "metadata": {},
   "outputs": [],
   "source": []
  }
 ],
 "metadata": {
  "kernelspec": {
   "display_name": "base",
   "language": "python",
   "name": "python3"
  },
  "language_info": {
   "codemirror_mode": {
    "name": "ipython",
    "version": 3
   },
   "file_extension": ".py",
   "mimetype": "text/x-python",
   "name": "python",
   "nbconvert_exporter": "python",
   "pygments_lexer": "ipython3",
   "version": "3.11.7"
  }
 },
 "nbformat": 4,
 "nbformat_minor": 2
}
